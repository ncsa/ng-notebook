{
  "nbformat": 4,
  "nbformat_minor": 0,
  "metadata": {
    "colab": {
      "name": "ng-notebook.ipynb",
      "provenance": []
    },
    "kernelspec": {
      "name": "python3",
      "display_name": "Python 3"
    }
  },
  "cells": [
    {
      "cell_type": "markdown",
      "metadata": {
        "id": "3UC-coqAejRY"
      },
      "source": [
        "# ng-notebook\n",
        "\n",
        "This is a simple example of an Angular application embedded in a notebook.\n",
        "\n",
        "More documentation can be found in the [project repository](https://github.com/ncsa/ng-notebook)."
      ]
    },
    {
      "cell_type": "markdown",
      "metadata": {
        "id": "_dxdsK1RfWto"
      },
      "source": [
        "**Step 1:** Run the following cell to import a precompiled Angular application as a self-contained HTML file."
      ]
    },
    {
      "cell_type": "code",
      "metadata": {
        "id": "likhc6nveBeu"
      },
      "source": [
        "!wget -O /content/index.html https://uofi.box.com/shared/static/9lwaafzasx2xrl403r3xlr9v89myy2yt.html"
      ],
      "execution_count": null,
      "outputs": []
    },
    {
      "cell_type": "markdown",
      "metadata": {
        "id": "_QeUMv2WgHrN"
      },
      "source": [
        "**Step 1b (optional):** If you would rather load your own copy of the application built by following the procedure in the project repository, then click the folder icon along the left side of this notebook, which will open a file browser view. Beneath the heading \"Files,\" you will see an upload icon. Click it, navigate to the `output` directory of your local copy of `ng-notebook`, and choose the file named `index.html`."
      ]
    },
    {
      "cell_type": "markdown",
      "metadata": {
        "id": "yz3WAua0iMc5"
      },
      "source": [
        "**Step 2:** Run the following cell to start a web server inside the notebook."
      ]
    },
    {
      "cell_type": "code",
      "metadata": {
        "id": "OoBMQ_THZu_H"
      },
      "source": [
        "import portpicker\n",
        "import threading\n",
        "import socket\n",
        "import IPython\n",
        "\n",
        "from six.moves import socketserver\n",
        "from six.moves import SimpleHTTPServer\n",
        "\n",
        "class V6Server(socketserver.TCPServer):\n",
        "  address_family = socket.AF_INET6\n",
        "\n",
        "class Handler(SimpleHTTPServer.SimpleHTTPRequestHandler):\n",
        "  def do_GET(self):\n",
        "    self.send_response(200)\n",
        "    # If the response should not be cached in the notebook for\n",
        "    # offline access:\n",
        "    # self.send_header('x-colab-notebook-cache-control', 'no-cache')\n",
        "    self.end_headers()\n",
        "    with open('/content/index.html', 'rb') as infile:\n",
        "        self.wfile.write(infile.read())\n",
        "\n",
        "port = portpicker.pick_unused_port()\n",
        "\n",
        "def server_entry():\n",
        "    httpd = V6Server(('::', port), Handler)\n",
        "    # Run until an explicit shutdown().\n",
        "    httpd.serve_forever()\n",
        "\n",
        "thread = threading.Thread(target=server_entry)\n",
        "thread.start()"
      ],
      "execution_count": null,
      "outputs": []
    },
    {
      "cell_type": "markdown",
      "metadata": {
        "id": "9V98zO_MiS6Q"
      },
      "source": [
        "**Step 3:** Finally, run the following cell to open the Angular application within the notebook.\n",
        "\n",
        "You will see a bar graph appear. The data in the bar graph was injected into the HTML by a Python script that represents a simple example of a workflow exporting results to be visualized. If you hover over any of the bars in the graph, you will see an image displayed on the right side. The image is fetched dynamically from another server and represents fetching annotations or other third-party data at runtime."
      ]
    },
    {
      "cell_type": "code",
      "metadata": {
        "id": "fmkMw4GXctFC"
      },
      "source": [
        "from google.colab import output\n",
        "output.serve_kernel_port_as_iframe(port, width='1200px', height='350px')"
      ],
      "execution_count": null,
      "outputs": []
    }
  ]
}